{
 "cells": [
  {
   "cell_type": "code",
   "execution_count": 1,
   "id": "cdc94253",
   "metadata": {},
   "outputs": [],
   "source": [
    "\n",
    "#BPNN\n",
    "iteration=1000\n",
    "learning_rate=0.7"
   ]
  },
  {
   "cell_type": "code",
   "execution_count": 24,
   "id": "6bcd8a3a",
   "metadata": {},
   "outputs": [],
   "source": [
    "import numpy as np\n",
    "from random import random\n",
    "import pandas as pd\n",
    "import matplotlib.pyplot as plt \n",
    "from sklearn.model_selection import train_test_split\n",
    "import seaborn as sns\n",
    "import matplotlib.ticker as mticker\n",
    "df=pd.read_excel('D:\\\\learning article\\\\final\\\\Data.xlsx')\n",
    "df1=pd.read_excel('D:\\\\learning article\\\\final\\\\mse.xlsx')\n",
    "df2=pd.read_excel('D:\\\\learning article\\\\final\\\\trainWithFunction.xlsx')\n",
    "#df3=pd.read_excel('D:\\\\learning article\\\\final\\\\DEA-CCR _abcep.xlsx')\n",
    "\n",
    "y_ccr=np.array(df.loc[:,'target-ccr'])\n",
    "y_bcc=np.array(df.loc[:,'target-bcc'])\n",
    "y_fdh=np.array(df.loc[:,'target-FDH'])\n",
    "x=np.array(df.iloc[:,[0,1,2,3,4]])\n",
    "\n"
   ]
  },
  {
   "cell_type": "code",
   "execution_count": 3,
   "id": "876e2804",
   "metadata": {},
   "outputs": [],
   "source": [
    "\n",
    "#test_result={'MSE': [], 'Relative-Error': [], 'Weight':[]}\n",
    "\n",
    "\n",
    "#k_test= {'MSE': [], 'Relative-Error': [], 'Weight':[],'output':[]}\n",
    "class MLP(object):\n",
    "    \"\"\"A Multilayer Perceptron class.\n",
    "    \"\"\"\n",
    "\n",
    "    def __init__(self, num_inputs=3, hidden_layers=[3, 3], num_outputs=2):\n",
    "        \"\"\"Constructor for the MLP. Takes the number of inputs,\n",
    "            a variable number of hidden layers, and number of outputs\n",
    "        Args:\n",
    "            num_inputs (int): Number of inputs\n",
    "            hidden_layers (list): A list of ints for the hidden layers\n",
    "            num_outputs (int): Number of outputs\n",
    "        \"\"\"\n",
    "\n",
    "        self.num_inputs = num_inputs\n",
    "        self.hidden_layers = hidden_layers\n",
    "        self.num_outputs = num_outputs\n",
    "\n",
    "        # create a generic representation of the layers\n",
    "        layers = [num_inputs] + hidden_layers + [num_outputs]\n",
    "\n",
    "        # create random connection weights for the layers\n",
    "        weights = []\n",
    "        for i in range(len(layers) - 1):\n",
    "            w = np.random.rand(layers[i], layers[i + 1])\n",
    "            weights.append(w)\n",
    "        self.weights = weights\n",
    "\n",
    "        # save derivatives per layer\n",
    "        derivatives = []\n",
    "        for i in range(len(layers) - 1):\n",
    "            d = np.zeros((layers[i], layers[i + 1]))\n",
    "            derivatives.append(d)\n",
    "        self.derivatives = derivatives\n",
    "\n",
    "        # save activations per layer\n",
    "        activations = []\n",
    "        for i in range(len(layers)):\n",
    "            a = np.zeros(layers[i])\n",
    "            activations.append(a)\n",
    "        self.activations = activations\n",
    "\n",
    "\n",
    "    def forward_propagate(self, inputs):\n",
    "        \"\"\"Computes forward propagation of the network based on input signals.\n",
    "        Args:\n",
    "            inputs (ndarray): Input signals\n",
    "        Returns:\n",
    "            activations (ndarray): Output values\n",
    "        \"\"\"\n",
    "\n",
    "        # the input layer activation is just the input itself\n",
    "        activations = inputs\n",
    "\n",
    "        # save the activations for backpropogation\n",
    "        self.activations[0] = activations\n",
    "        \n",
    "        # iterate through the network layers\n",
    "        for i, w in enumerate(self.weights):\n",
    "           \n",
    "           \n",
    "            # calculate matrix multiplication between previous activation and weight matrix\n",
    "            net_inputs = np.dot(activations, w)\n",
    "\n",
    "            # apply sigmoid activation function\n",
    "            activations = self._sigmoid(net_inputs)\n",
    "          \n",
    "            # save the activations for backpropogation\n",
    "            self.activations[i + 1] = activations\n",
    "            \n",
    "        # return output layer activation\n",
    "        \n",
    "        return activations,self.weights\n",
    "    \n",
    "    \n",
    "   \n",
    "\n",
    "    def back_propagate(self, error):\n",
    "        \"\"\"Backpropogates an error signal.\n",
    "        Args:\n",
    "            error (ndarray): The error to backprop.\n",
    "        Returns:\n",
    "            error (ndarray): The final error of the input\n",
    "        \"\"\"\n",
    "\n",
    "        # iterate backwards through the network layers\n",
    "        for i in reversed(range(len(self.derivatives))):\n",
    "\n",
    "            # get activation for previous layer\n",
    "            activations = self.activations[i+1]\n",
    "\n",
    "            # apply sigmoid derivative function\n",
    "            delta = error * self._sigmoid_derivative(activations)\n",
    "\n",
    "            # reshape delta as to have it as a 2d array\n",
    "            delta_re = delta.reshape(delta.shape[0], -1).T\n",
    "\n",
    "            # get activations for current layer\n",
    "            current_activations = self.activations[i]\n",
    "\n",
    "            # reshape activations as to have them as a 2d column matrix\n",
    "            current_activations = current_activations.reshape(current_activations.shape[0],-1)\n",
    "\n",
    "            # save derivative after applying matrix multiplication\n",
    "            self.derivatives[i] = np.dot(current_activations, delta_re)\n",
    "\n",
    "            # backpropogate the next error\n",
    "            error = np.dot(delta, self.weights[i].T)\n",
    "            \n",
    "    \n",
    "\n",
    "\n",
    "    def train(self, inputs, targets, epochs, learning_rate,number_of_data):\n",
    "        \"\"\"Trains model running forward prop and backprop\n",
    "        Args:\n",
    "            inputs (ndarray): X\n",
    "            targets (ndarray): Y\n",
    "            epochs (int): Num. epochs we want to train the network for\n",
    "            learning_rate (float): Step to apply to gradient descent\n",
    "        \"\"\"\n",
    "        \n",
    "        train_result= {'MSE': [], 'Weight':[],'Relative-Error':[]}\n",
    "        result=pd.DataFrame(index=np.arange(1,number_of_data+1),columns=['type','DMU','target','output'])\n",
    "        # now enter the training loop\n",
    "        for i in range(epochs):\n",
    "            sum_errors = 0\n",
    "           \n",
    "            \n",
    "            # iterate through all the training data\n",
    "            for j, input in enumerate(inputs):\n",
    "                target = targets[j]\n",
    "                \n",
    "                \n",
    "                # activate the network!\n",
    "                out = self.forward_propagate(input[[1,2,3,4]])\n",
    "                \n",
    "                output=float(out[0])\n",
    "                #print(target)\n",
    "                #print(output)\n",
    "                error = target - output\n",
    "                \n",
    "                \n",
    "                if (i==epochs-1):\n",
    "                    \n",
    "                    result.loc[int(inputs[j,0])]=['Train',inputs[j,0],target,output]\n",
    "                    train_result['Relative-Error'] += [abs(target-output)/target]\n",
    "                    train_result['Weight']=out[1]\n",
    "                    #print(k['Weight'])\n",
    "                    #print('----')\n",
    "                    #print(out[1])\n",
    "                    #k['output']+=[out[0]]\n",
    "                #print(output)\n",
    "                \n",
    "                self.back_propagate(error)\n",
    "\n",
    "                # now perform gradient descent on the derivatives\n",
    "                # (this will update the weights\n",
    "                self.gradient_descent(learning_rate)\n",
    "\n",
    "                # keep track of the MSE for reporting later\n",
    "                sum_errors += self._mse(target, output)\n",
    "                ##relative_error.append((abs(target-output))/target)\n",
    "                ##print('j={}'.format(j))\n",
    "            # Epoch complete, report the training error\n",
    "            #print(\"Error: {} at epoch {}\".format(sum_errors / len(inputs), i+1))\n",
    "            train_result['MSE']+=[(sum_errors / len(inputs))]\n",
    "          \n",
    "        print(\"Training complete!\")\n",
    "        print(\"=====\")\n",
    "        return train_result,result\n",
    "    \n",
    "    \n",
    "\n",
    "\n",
    "\n",
    "    def gradient_descent(self, learningRate):\n",
    "        \"\"\"Learns by descending the gradient\n",
    "        Args:\n",
    "            learningRate (float): How fast to learn.\n",
    "        \"\"\"\n",
    "        # update the weights by stepping down the gradient\n",
    "        for i in range(len(self.weights)):\n",
    "            weights = self.weights[i]\n",
    "            derivatives = self.derivatives[i]\n",
    "            weights += derivatives * learningRate\n",
    "\n",
    "\n",
    "    def _sigmoid(self, x):\n",
    "        \"\"\"Sigmoid activation function\n",
    "        Args:\n",
    "            x (float): Value to be processed\n",
    "        Returns:\n",
    "            y (float): Output\n",
    "        \"\"\"\n",
    "\n",
    "        y = 1.0 / (1 + np.exp(-x))\n",
    "        return y\n",
    "\n",
    "\n",
    "    def _sigmoid_derivative(self, x):\n",
    "        \"\"\"Sigmoid derivative function\n",
    "        Args:\n",
    "            x (float): Value to be processed\n",
    "        Returns:\n",
    "            y (float): Output\n",
    "        \"\"\"\n",
    "        return x * (1.0 - x)\n",
    "\n",
    "\n",
    "    def _mse(self, target, output):\n",
    "        \"\"\"Mean Squared Error loss function\n",
    "        Args:\n",
    "            target (ndarray): The ground trut\n",
    "            output (ndarray): The predicted values\n",
    "        Returns:\n",
    "            (float): Output\n",
    "        \"\"\"\n",
    "        return np.average((target - output) ** 2)\n",
    "    \n",
    "    \n",
    "    \n",
    "    def test(self, inputs,targets, result, *Weights):\n",
    "        \"\"\"Trains model running forward prop and backprop\n",
    "        \n",
    "        Args:\n",
    "            inputs (ndarray): X\n",
    "            \n",
    "            epochs (int): Num. epochs we want to train the network for\n",
    "            learning_rate (float): Step to apply to gradient descent\n",
    "        \"\"\"\n",
    "        \n",
    "        output=[]\n",
    "        test_result= {'Relative-Error': [], 'Weight':[]}    \n",
    "                \n",
    "                \n",
    "           # iterate through all the training data\n",
    "        for j, input in enumerate(inputs):\n",
    "            target=targets[j]\n",
    "            out = self.forward_propagate_test(input[[1,2,3,4]],Weights)\n",
    "            output.append(list(out[0]))\n",
    "            floatoutput=float(out[0])\n",
    "            result.loc[int(inputs[j,0])]=['Test',inputs[j,0],target,floatoutput]\n",
    "            test_result['Relative-Error'] += [abs(target-floatoutput)/target]\n",
    "            test_result['Weight']=out[1]\n",
    "            #test_result['output']+=[out[0]]\n",
    "            \n",
    "            \n",
    "            \n",
    "            \n",
    "                #print(output)\n",
    "                \n",
    "                #self.back_propagate(error)\n",
    "\n",
    "                # now perform gradient descent on the derivatives\n",
    "                # (this will update the weights\n",
    "               # self.gradient_descent(learning_rate)\n",
    "\n",
    "                # keep track of the MSE for reporting later\n",
    "                #sum_errors += self._mse(target, output)\n",
    "                #relative_error.append((abs(target-output))/target)\n",
    "                #print('j={}'.format(j))\n",
    "            # Epoch complete, report the training error\n",
    "            #print(\"Error: {} at epoch {}\".format(sum_errors / len(inputs), i+1))\n",
    "            #k['MSE']+=[(sum_errors / len(inputs))]\n",
    "           \n",
    "        print(\"Test complete!\")\n",
    "        print(\"=====\")\n",
    "        #print(result)\n",
    "        return test_result,result\n",
    "\n",
    "    def forward_propagate_test(self, inputs,*weights):\n",
    "            \"\"\"Computes forward propagation of the network based on input signals.\n",
    "            Args:\n",
    "            inputs (ndarray): Input signals\n",
    "            Returns:\n",
    "            activations (ndarray): Output values\n",
    "            \"\"\"\n",
    "\n",
    "        # the input layer activation is just the input itself\n",
    "            activations = inputs\n",
    "\n",
    "        # save the activations for backpropogation\n",
    "            self.activations[0] = activations\n",
    "\n",
    "        # iterate through the network layers\n",
    "            for i, w in enumerate(self.weights):\n",
    "            # calculate matrix multiplication between previous activation and weight matrix\n",
    "                net_inputs = np.dot(activations, w)\n",
    "\n",
    "            # apply sigmoid activation function\n",
    "                activations = self._sigmoid(net_inputs)\n",
    "\n",
    "            # save the activations for backpropogation\n",
    "                self.activations[i + 1] = activations\n",
    "            \n",
    "        # return output layer activation\n",
    "        \n",
    "            return activations,self.weights\n"
   ]
  },
  {
   "cell_type": "code",
   "execution_count": 4,
   "id": "fa168dce",
   "metadata": {},
   "outputs": [
    {
     "name": "stdout",
     "output_type": "stream",
     "text": [
      "Training complete!\n",
      "=====\n"
     ]
    }
   ],
   "source": [
    "#CCR\n",
    "\n",
    "if __name__ == \"__main__\":\n",
    "\n",
    "   \n",
    "\n",
    "    # create a Multilayer Perceptron with one hidden layer\n",
    "    #mlp = MLP(4, [5,3], 1)# input means number of inputs features\n",
    "    mlp=MLP(4, [5,3], 1)\n",
    "  # train network\n",
    "    #k= {'MSE': [], 'Weight':[]} #reset mse list\n",
    "    \n",
    "    x_train_ccr,x_test_ccr,y_train_ccr,y_test_ccr=train_test_split(x,y_ccr,test_size=0.2)\n",
    "\n",
    "    number_of_data=len(x)\n",
    "    number_of_train_data=len(x_train_ccr)\n",
    "    #iteration=100\n",
    "    #learning_rate=0.7\n",
    "    BPNN,train=mlp.train(x_train_ccr, y_train_ccr,iteration,learning_rate,number_of_data)\n",
    "    \n",
    " \n",
    "\n",
    "    # create dummy data\n",
    "   # input = x\n",
    "    #target = y\n",
    "    \n",
    "    # get a prediction\n",
    "    #output = mlp.forward_propagate(input)\n",
    "\n",
    "    #print()\n",
    "    #print(\"Our network believes that {} + {} is equal to {}\".format(input[0], input[1], output[0]))\n",
    "  "
   ]
  },
  {
   "cell_type": "code",
   "execution_count": 5,
   "id": "5c3a32c8",
   "metadata": {},
   "outputs": [
    {
     "name": "stdout",
     "output_type": "stream",
     "text": [
      "Test complete!\n",
      "=====\n"
     ]
    }
   ],
   "source": [
    "if __name__ == \"__main__\":\n",
    "    BPNN_Test,result=mlp.test(x_test_ccr,y_test_ccr,train,BPNN['Weight'])\n",
    "result['output']=result['output'].apply(lambda output:np.round(float(output),4))"
   ]
  },
  {
   "cell_type": "markdown",
   "id": "37859ad9",
   "metadata": {},
   "source": [
    "# prediction"
   ]
  },
  {
   "cell_type": "markdown",
   "id": "602cf68d",
   "metadata": {},
   "source": [
    "# predict ABCEP\n"
   ]
  },
  {
   "cell_type": "code",
   "execution_count": 6,
   "id": "eccc8399",
   "metadata": {},
   "outputs": [
    {
     "data": {
      "text/plain": [
       "Text(0, 0.5, 'output≅ 0.92*target +0.05')"
      ]
     },
     "execution_count": 6,
     "metadata": {},
     "output_type": "execute_result"
    },
    {
     "data": {
      "image/png": "[encoded data removed]",
      "text/plain": [
       "<Figure size 432x288 with 1 Axes>"
      ]
     },
     "metadata": {
      "needs_background": "light"
     },
     "output_type": "display_data"
    }
   ],
   "source": [
    "xx=df2['target']\n",
    "yy=df2['predict']\n",
    "\n",
    "# solve for a and b\n",
    "def best_fit(X, Y):\n",
    "\n",
    "    xbar = sum(X)/len(X)\n",
    "    ybar = sum(Y)/len(Y)\n",
    "    n = len(X) # or len(Y)\n",
    "\n",
    "    numer = sum([xi*yi for xi,yi in zip(X, Y)]) - n * xbar * ybar\n",
    "    denum = sum([xi**2 for xi in X]) - n * xbar**2\n",
    "\n",
    "    b = numer / denum\n",
    "    a = ybar - b * xbar\n",
    "\n",
    "    #print('best fit line:\\ny = {:.2f} + {:.2f}x'.format(a, b))\n",
    "\n",
    "    return a, b\n",
    "\n",
    "# solution\n",
    "a1, b1 = best_fit(xx, yy)\n",
    "#best fit line:\n",
    "#y = 0.80 + 0.92x\n",
    "\n",
    "# plot points and fit line\n",
    "\n",
    "plt.scatter(xx, yy,marker='o',edgecolors='black',facecolors='none')\n",
    "plt.plot(xx,xx,ls='--',color='r')\n",
    "y1fit = [a1 + b1 * xi for xi in xx]\n",
    "plt.plot(xx, y1fit)\n",
    "plt.xlabel('target')\n",
    "plt.ylabel('output≅ {}*target +{}'.format(round(b1,2),round(a1,2)))\n",
    "#plt.savefig('fariba.jpg')"
   ]
  },
  {
   "cell_type": "code",
   "execution_count": 7,
   "id": "9c467591",
   "metadata": {},
   "outputs": [
    {
     "data": {
      "text/plain": [
       "<seaborn.axisgrid.FacetGrid at 0x26abe5ef760>"
      ]
     },
     "execution_count": 7,
     "metadata": {},
     "output_type": "execute_result"
    },
    {
     "data": {
      "image/png": "[encoded data removed]",
      "text/plain": [
       "<Figure size 360x360 with 1 Axes>"
      ]
     },
     "metadata": {
      "needs_background": "light"
     },
     "output_type": "display_data"
    }
   ],
   "source": [
    "sns.displot(df2['target']-df2['predict'],bins=30)"
   ]
  },
  {
   "cell_type": "code",
   "execution_count": null,
   "id": "9e658a69",
   "metadata": {},
   "outputs": [],
   "source": []
  },
  {
   "cell_type": "code",
   "execution_count": null,
   "id": "792140f7",
   "metadata": {},
   "outputs": [],
   "source": []
  },
  {
   "cell_type": "code",
   "execution_count": null,
   "id": "aad187ab",
   "metadata": {},
   "outputs": [],
   "source": []
  },
  {
   "cell_type": "markdown",
   "id": "3685a193",
   "metadata": {},
   "source": [
    "# predict BPNN"
   ]
  },
  {
   "cell_type": "code",
   "execution_count": 9,
   "id": "1b302767",
   "metadata": {},
   "outputs": [
    {
     "data": {
      "text/plain": [
       "Text(0, 0.5, 'output≅ 0.87*target +0.08')"
      ]
     },
     "execution_count": 9,
     "metadata": {},
     "output_type": "execute_result"
    },
    {
     "data": {
      "image/png": "[encoded data removed]",
      "text/plain": [
       "<Figure size 432x288 with 1 Axes>"
      ]
     },
     "metadata": {
      "needs_background": "light"
     },
     "output_type": "display_data"
    }
   ],
   "source": [
    "# sample points \n",
    "#X = [result['target'][1],result['target'][2], result['target'][3],result['target'][4],result['target'][5],\n",
    "    # result['target'][6], result['target'][7],result['target'][8]]\n",
    "#Y = [ result['output'][1], result['output'][2], result['output'][3], result['output'][4],\n",
    "     #result['output'][5], result['output'][6], result['output'][7], result['output'][8]]\n",
    "    \n",
    "X=result['target']\n",
    "Y=result['output']\n",
    "\n",
    "# solve for a and b\n",
    "def best_fit(X, Y):\n",
    "\n",
    "    xbar = sum(X)/len(X)\n",
    "    ybar = sum(Y)/len(Y)\n",
    "    n = len(X) # or len(Y)\n",
    "\n",
    "    numer = sum([xi*yi for xi,yi in zip(X, Y)]) - n * xbar * ybar\n",
    "    denum = sum([xi**2 for xi in X]) - n * xbar**2\n",
    "\n",
    "    b = numer / denum\n",
    "    a = ybar - b * xbar\n",
    "\n",
    "    #print('best fit line:\\ny = {:.2f} + {:.2f}x'.format(a, b))\n",
    "\n",
    "    return a, b\n",
    "\n",
    "# solution\n",
    "a, b = best_fit(X, Y)\n",
    "#best fit line:\n",
    "#y = 0.80 + 0.92x\n",
    "\n",
    "# plot points and fit line\n",
    "\n",
    "plt.scatter(X, Y,marker='o',edgecolors='black',facecolors='none')\n",
    "yfit = [a + b * xi for xi in X]\n",
    "plt.plot(X, yfit)\n",
    "plt.xlabel('target')\n",
    "plt.ylabel('output≅ {}*target +{}'.format(round(b,2),round(a,2)))\n",
    "\n",
    "#plt.savefig('fariba.jpg')"
   ]
  },
  {
   "cell_type": "code",
   "execution_count": 10,
   "id": "9a64373e",
   "metadata": {},
   "outputs": [
    {
     "data": {
      "text/plain": [
       "<seaborn.axisgrid.FacetGrid at 0x26ab89ff310>"
      ]
     },
     "execution_count": 10,
     "metadata": {},
     "output_type": "execute_result"
    },
    {
     "data": {
      "image/png": "[encoded data removed]",
      "text/plain": [
       "<Figure size 360x360 with 1 Axes>"
      ]
     },
     "metadata": {
      "needs_background": "light"
     },
     "output_type": "display_data"
    }
   ],
   "source": [
    "sns.displot(result['target']-result['output'],bins=30)"
   ]
  },
  {
   "cell_type": "markdown",
   "id": "58a87443",
   "metadata": {},
   "source": [
    "# relative_error"
   ]
  },
  {
   "cell_type": "code",
   "execution_count": 21,
   "id": "bdbd1a04",
   "metadata": {},
   "outputs": [],
   "source": [
    "Relative_error=pd.DataFrame(index=np.arange(1,number_of_data+1), columns=['DMU','BPNN','type'])\n",
    "\n",
    "for i in range(len(x_train_ccr[:,0])):\n",
    "    k=int(x_train_ccr[i,0])\n",
    "    e=BPNN['Relative-Error'][i]\n",
    "    Relative_error.loc[k]=[k,e,'train']\n",
    "for i in range(len(x_test_ccr[:,0])):\n",
    "    k=int(x_test_ccr[i,0])\n",
    "    e=BPNN_Test['Relative-Error'][i]\n",
    "    Relative_error.loc[k]=[k,e,'test']\n",
    "\n"
   ]
  },
  {
   "cell_type": "markdown",
   "id": "a0947d75",
   "metadata": {},
   "source": [
    "# plot relative-error"
   ]
  },
  {
   "cell_type": "code",
   "execution_count": 15,
   "id": "c860bc29",
   "metadata": {},
   "outputs": [
    {
     "data": {
      "image/png": "[encoded data removed]",
      "text/plain": [
       "<Figure size 864x216 with 1 Axes>"
      ]
     },
     "metadata": {
      "needs_background": "light"
     },
     "output_type": "display_data"
    }
   ],
   "source": [
    "fig=plt.figure(figsize=(12,3))\n",
    "plt.plot('DMU','BPNN',data=Relative_error,color='red',marker='o')\n",
    "plt.plot('DMU','ABCEP',data=df2,color='black',linestyle='--')\n",
    "#yfit = [a + b * xi for xi in X]\n",
    "#plt.plot(X, yfit)\n",
    "plt.xlabel('test')\n",
    "plt.ylabel('Relative-Error')\n",
    "plt.legend()\n",
    "plt.show()\n"
   ]
  },
  {
   "cell_type": "markdown",
   "id": "b2383fa8",
   "metadata": {},
   "source": [
    "# mse\n"
   ]
  },
  {
   "cell_type": "code",
   "execution_count": 22,
   "id": "5aaf06d3",
   "metadata": {},
   "outputs": [],
   "source": [
    "#-ABCEP\n",
    "\n",
    "df1=pd.read_excel('D:\\\\learning article\\\\final\\\\mse.xlsx')\n",
    "df1['Best']=df1['error-ccr'][len(df1)-1]   \n",
    "BPNN_mse=pd.DataFrame(index=np.arange(0,iteration),columns=['Epochs','CCR-Train'])\n",
    "for i in range(iteration):\n",
    "    BPNN_mse.iloc[i]=[i+1,BPNN['MSE'][i]]\n",
    "\n",
    "BPNN_mse['Best']=BPNN_mse['CCR-Train'][len(BPNN_mse)-1]  \n",
    "\n",
    "#ylim=(min(min(df1['CCR-Train']),min(BPNN_mse['CCR-Train']))-0.01,\n",
    "#max(max(df1['CCR-Train']),max(BPNN_mse['CCR-Train']))+0.01)\n",
    "#ylim= [0.000001,0.00001,0.0001,0.01,1.0]\n",
    "#ylim=(0.000001,0.01)"
   ]
  },
  {
   "cell_type": "code",
   "execution_count": 27,
   "id": "c1315394",
   "metadata": {},
   "outputs": [
    {
     "data": {
      "image/png": "[encoded data removed]",
      "text/plain": [
       "<Figure size 576x432 with 2 Axes>"
      ]
     },
     "metadata": {
      "needs_background": "light"
     },
     "output_type": "display_data"
    }
   ],
   "source": [
    "\n",
    "\n",
    "fig, axes = plt.subplots(1, 2,  figsize=(8, 6),sharey=True)\n",
    "\n",
    "axes[0].plot('Epochs','CCR-Train',data=BPNN_mse)\n",
    "axes[0].plot('Epochs','Best',data=BPNN_mse,color='black',linestyle='--')\n",
    "axes[0].set_xlabel('Epochs')\n",
    "axes[0].set_ylabel('Mean Square Error(MSE)')\n",
    "axes[0].set_title('BPNN')\n",
    "#axes[0].set_ylim(ylim)\n",
    "\n",
    "#axes[0].yaxis.set_major_formatter(mtick.FormatStrFormatter('%1.1e'))\n",
    "\n",
    "axes[1].plot('Epochs','CCR-Train',data=df1)\n",
    "axes[1].plot('Epochs','Best',data=df1,color='black',linestyle='--')\n",
    "\n",
    "axes[1].set_xlabel('Epochs')\n",
    "axes[1].set_ylabel('Mean Square Error(MSE)')\n",
    "axes[1].set_title('ABCEP')\n",
    "\n",
    "#fig.tight_layout(h_pad=1.5,w_pad=0.5)\n",
    "fig.subplots_adjust(wspace=0.7, hspace=0.6)\n",
    "#axes[1].set_ylim(ylim)\n",
    "#axes[1].yaxis.set_major_formatter(mtick.FormatStrFormatter('%1.1e'))\n",
    "#plt.show()\n",
    "\n",
    "\n",
    "class MathTextSciFormatter(mticker.Formatter):\n",
    "    def __init__(self, fmt=\"%1.2e\"):\n",
    "        self.fmt = fmt\n",
    "    def __call__(self, x, pos=None):\n",
    "        s = self.fmt % x\n",
    "        decimal_point = '.'\n",
    "        positive_sign = '+'\n",
    "        tup = s.split('e')\n",
    "        significand = tup[0].rstrip(decimal_point)\n",
    "        sign = tup[1][0].replace(positive_sign, '')\n",
    "        exponent = tup[1][1:].lstrip('0')\n",
    "        if exponent:\n",
    "            exponent = '10^{%s%s}' % (sign, exponent)\n",
    "        if significand and exponent:\n",
    "            s =  r'%s{\\times}%s' % (significand, exponent)\n",
    "        else:\n",
    "            s =  r'%s%s' % (significand, exponent)\n",
    "        return \"${}$\".format(s)\n",
    "\n",
    "# Format with 2 decimal places\n",
    "plt.gca().yaxis.set_major_formatter(MathTextSciFormatter(\"%1.1e\"))\n",
    "plt.tick_params(labelleft=True )\n"
   ]
  },
  {
   "cell_type": "code",
   "execution_count": null,
   "id": "0b884889",
   "metadata": {},
   "outputs": [],
   "source": [
    "\n"
   ]
  },
  {
   "cell_type": "code",
   "execution_count": null,
   "id": "e611a864",
   "metadata": {},
   "outputs": [],
   "source": [
    "#BCC\n"
   ]
  },
  {
   "cell_type": "code",
   "execution_count": null,
   "id": "fd972801",
   "metadata": {},
   "outputs": [],
   "source": [
    "\n"
   ]
  },
  {
   "cell_type": "code",
   "execution_count": null,
   "id": "d5524934",
   "metadata": {},
   "outputs": [],
   "source": []
  },
  {
   "cell_type": "code",
   "execution_count": null,
   "id": "ab174044",
   "metadata": {},
   "outputs": [],
   "source": []
  },
  {
   "cell_type": "code",
   "execution_count": null,
   "id": "bb5283d8",
   "metadata": {},
   "outputs": [],
   "source": []
  }
 ],
 "metadata": {
  "kernelspec": {
   "display_name": "Python 3 (ipykernel)",
   "language": "python",
   "name": "python3"
  },
  "language_info": {
   "codemirror_mode": {
    "name": "ipython",
    "version": 3
   },
   "file_extension": ".py",
   "mimetype": "text/x-python",
   "name": "python",
   "nbconvert_exporter": "python",
   "pygments_lexer": "ipython3",
   "version": "3.9.7"
  }
 },
 "nbformat": 4,
 "nbformat_minor": 5
}
